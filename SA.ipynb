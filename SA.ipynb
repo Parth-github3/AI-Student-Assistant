{
 "cells": [
  {
   "cell_type": "code",
   "execution_count": 2,
   "metadata": {},
   "outputs": [],
   "source": [
    "#Requirements\n",
    "from langchain_groq import ChatGroq\n",
    "import streamlit as st\n",
    "from langchain_core.prompts import ChatPromptTemplate\n",
    "from operator import itemgetter\n",
    "from langchain_core.output_parsers import StrOutputParser\n",
    "from langchain_core.runnables import RunnablePassthrough\n"
   ]
  },
  {
   "cell_type": "code",
   "execution_count": 3,
   "metadata": {},
   "outputs": [],
   "source": [
    "#LLM Model\n",
    "llama = ChatGroq(\n",
    "    model=\"LLaMA3-70B-8192\",\n",
    "    groq_api_key='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',\n",
    "    temperature=0.0\n",
    ")"
   ]
  },
  {
   "cell_type": "code",
   "execution_count": 5,
   "metadata": {},
   "outputs": [],
   "source": [
    "def Assistant():\n",
    "    base_summary_chain = (\n",
    "    ChatPromptTemplate.from_template(\"\"\"\n",
    "Provide answers for the following list of questions with explapaination and also track which questions are repeated:{topic}\n",
    "\"\"\")\n",
    "    | llama\n",
    "    | StrOutputParser()\n",
    "    |{\"base_response\": RunnablePassthrough()}\n",
    "    )\n",
    "    res =base_summary_chain.invoke(\"\"\"1. Differentiate Fuzzy logic and Crisp logic. Explain architecture of fuzzy logic system. \n",
    "2. Explain various steps of Natural Language Processing.\n",
    "3. What is state space representation? Explain with suitable example.\n",
    "4. What is planning? Discuss Nonlinear Planning using Constraint Posting with example.\n",
    "5. Explain various steps of Natural Language Processing.\"\"\")\n",
    "    return res"
   ]
  },
  {
   "cell_type": "code",
   "execution_count": 7,
   "metadata": {},
   "outputs": [
    {
     "name": "stdout",
     "output_type": "stream",
     "text": [
      "{'base_response': 'I\\'ll provide answers to each question with explanations and track repeated questions.\\n\\n**1. Differentiate Fuzzy logic and Crisp logic. Explain architecture of fuzzy logic system.**\\n\\n**Fuzzy Logic vs. Crisp Logic:**\\n\\nFuzzy logic and crisp logic are two different approaches to reasoning and decision-making.\\n\\n* **Crisp Logic:** In crisp logic, a statement is either true (1) or false (0). It\\'s a binary approach with no intermediate values. Crisp logic is based on classical set theory, where an element either belongs to a set or not.\\n* **Fuzzy Logic:** Fuzzy logic, on the other hand, allows for intermediate values between true and false. It\\'s based on fuzzy set theory, where an element can partially belong to a set. Fuzzy logic is useful for modeling uncertain or imprecise information.\\n\\n**Architecture of Fuzzy Logic System:**\\n\\nThe architecture of a fuzzy logic system consists of the following components:\\n\\n1. **Fuzzifier:** Converts crisp input values into fuzzy sets.\\n2. **Knowledge Base:** Contains the fuzzy rules and membership functions.\\n3. **Inference Engine:** Applies the fuzzy rules to the fuzzy inputs to produce fuzzy outputs.\\n4. **Defuzzifier:** Converts the fuzzy outputs into crisp values.\\n\\n**2. Explain various steps of Natural Language Processing.**\\n\\n**Steps of Natural Language Processing (NLP):**\\n\\n1. **Tokenization:** Breaking down text into individual words or tokens.\\n2. **Stopword Removal:** Removing common words like \"the,\" \"and,\" etc. that don\\'t add much value to the meaning.\\n3. **Stemming or Lemmatization:** Reducing words to their base form (e.g., \"running\" becomes \"run\").\\n4. **Part-of-Speech (POS) Tagging:** Identifying the grammatical category of each word (e.g., noun, verb, adjective).\\n5. **Named Entity Recognition (NER):** Identifying named entities like people, places, and organizations.\\n6. **Dependency Parsing:** Analyzing sentence structure and relationships between words.\\n7. **Semantic Role Labeling (SRL):** Identifying the roles played by entities in a sentence (e.g., \"Who did what to whom?\").\\n8. **Machine Translation:** Translating text from one language to another.\\n\\n**3. What is state space representation? Explain with suitable example.**\\n\\n**State Space Representation:**\\n\\nState space representation is a way to model a system or problem by defining a set of states and the transitions between them. It\\'s a fundamental concept in artificial intelligence, robotics, and control systems.\\n\\n**Example:**\\n\\nConsider a simple robotic arm with two joints, each with two possible positions (up or down). The state space representation of this system would consist of:\\n\\n* **States:** Each possible combination of joint positions, resulting in 2^2 = 4 states:\\n\\t+ State 1: Joint 1 up, Joint 2 up\\n\\t+ State 2: Joint 1 up, Joint 2 down\\n\\t+ State 3: Joint 1 down, Joint 2 up\\n\\t+ State 4: Joint 1 down, Joint 2 down\\n* **Transitions:** The possible movements between states, such as moving Joint 1 up or down, or moving Joint 2 up or down.\\n\\n**4. What is planning? Discuss Nonlinear Planning using Constraint Posting with example.**\\n\\n**Planning:**\\n\\nPlanning is the process of generating a sequence of actions to achieve a goal. It involves identifying the current state, defining the goal state, and finding a path between them.\\n\\n**Nonlinear Planning using Constraint Posting:**\\n\\nNonlinear planning involves finding a plan that doesn\\'t necessarily follow a linear sequence of actions. Constraint posting is a technique used in nonlinear planning to represent and solve planning problems.\\n\\n**Example:**\\n\\nSuppose we want to plan a trip from City A to City C, with a constraint that we must visit City B before City C. We can represent this problem using constraint posting as follows:\\n\\n* **Variables:** City A, City B, City C\\n* **Constraints:**\\n\\t+ City A → City B (must visit City B after City A)\\n\\t+ City B → City C (must visit City C after City B)\\n* **Goal:** Reach City C\\n\\nThe planner would then use these constraints to generate a plan, such as: City A → City B → City C.\\n\\n**5. Explain various steps of Natural Language Processing.**\\n\\n**Repeated Question!**\\n\\nThis question is a repeat of question 2. Please refer to the answer provided earlier.\\n\\nLet me know if you have any further questions or need clarification on any of these topics!'}\n"
     ]
    }
   ],
   "source": [
    "print(Assistant())"
   ]
  },
  {
   "cell_type": "code",
   "execution_count": 9,
   "metadata": {},
   "outputs": [],
   "source": [
    "base_summary_chain = (\n",
    "    ChatPromptTemplate.from_template(\"Provide answers for the following list of questions {questions} with explapaination and also track which questions are repeated.\")\n",
    "    | llama\n",
    "    | StrOutputParser()\n",
    "    #|{\"base_response\": RunnablePassthrough()}\n",
    ")"
   ]
  },
  {
   "cell_type": "code",
   "execution_count": 10,
   "metadata": {},
   "outputs": [
    {
     "name": "stdout",
     "output_type": "stream",
     "text": [
      "I'd be happy to help. Here's the answer to the first question:\n",
      "\n",
      "**What is planning?**\n",
      "\n",
      "Planning is the process of thinking about and organizing the activities required to achieve a specific goal or set of goals. It involves identifying and prioritizing objectives, determining the resources needed to achieve them, and creating a roadmap or timeline for completing the necessary tasks. Planning helps individuals, teams, and organizations to make informed decisions, allocate resources effectively, and minimize risks. It is an essential step in achieving success in various aspects of life, including business, education, and personal development.\n",
      "\n",
      "**Repeated questions tracker:** None (so far!)\n",
      "\n",
      "Please go ahead and add more questions to the list. I'll be happy to answer them and keep track of any repeated questions.\n"
     ]
    }
   ],
   "source": [
    "def generate_response(userinput):\n",
    "    return base_summary_chain.invoke(userinput)\n",
    "\n",
    "userinput = \"What is planning?\"\n",
    "resp = generate_response(userinput)\n",
    "print(resp)"
   ]
  },
  {
   "cell_type": "code",
   "execution_count": null,
   "metadata": {},
   "outputs": [],
   "source": []
  }
 ],
 "metadata": {
  "kernelspec": {
   "display_name": ".venv",
   "language": "python",
   "name": "python3"
  },
  "language_info": {
   "codemirror_mode": {
    "name": "ipython",
    "version": 3
   },
   "file_extension": ".py",
   "mimetype": "text/x-python",
   "name": "python",
   "nbconvert_exporter": "python",
   "pygments_lexer": "ipython3",
   "version": "3.10.13"
  }
 },
 "nbformat": 4,
 "nbformat_minor": 2
}
