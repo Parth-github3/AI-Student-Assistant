{
 "cells": [
  {
   "cell_type": "code",
   "execution_count": 1,
   "metadata": {},
   "outputs": [],
   "source": [
    "#Requirements\n",
    "from langchain_groq import ChatGroq\n",
    "import streamlit as st\n",
    "from langchain_core.prompts import ChatPromptTemplate, PromptTemplate\n",
    "from operator import itemgetter\n",
    "from langchain_core.output_parsers import StrOutputParser\n",
    "from langchain_core.runnables import RunnablePassthrough\n"
   ]
  },
  {
   "cell_type": "code",
   "execution_count": 2,
   "metadata": {},
   "outputs": [],
   "source": [
    "#LLM Model\n",
    "llama = ChatGroq(\n",
    "    model=\"LLaMA3-70B-8192\",\n",
    "    groq_api_key='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',\n",
    "    temperature=0.0\n",
    ")"
   ]
  },
  {
   "cell_type": "code",
   "execution_count": 5,
   "metadata": {},
   "outputs": [],
   "source": [
    "def Assistant():\n",
    "    base_summary_chain = (\n",
    "    ChatPromptTemplate.from_template(\"\"\"\n",
    "Provide answers for the following list of questions with explapaination and also track which questions are repeated:{topic}\n",
    "\"\"\")\n",
    "    | llama\n",
    "    | StrOutputParser()\n",
    "    |{\"base_response\": RunnablePassthrough()}\n",
    "    )\n",
    "    res =base_summary_chain.invoke(\"\"\"1. Differentiate Fuzzy logic and Crisp logic. Explain architecture of fuzzy logic system. \n",
    "2. Explain various steps of Natural Language Processing.\n",
    "3. What is state space representation? Explain with suitable example.\n",
    "4. What is planning? Discuss Nonlinear Planning using Constraint Posting with example.\n",
    "5. Explain various steps of Natural Language Processing.\"\"\")\n",
    "    return res"
   ]
  },
  {
   "cell_type": "code",
   "execution_count": 7,
   "metadata": {},
   "outputs": [
    {
     "name": "stdout",
     "output_type": "stream",
     "text": [
      "{'base_response': 'I\\'ll provide answers to each question with explanations and track repeated questions.\\n\\n**1. Differentiate Fuzzy logic and Crisp logic. Explain architecture of fuzzy logic system.**\\n\\n**Fuzzy Logic vs. Crisp Logic:**\\n\\nFuzzy logic and crisp logic are two different approaches to reasoning and decision-making.\\n\\n* **Crisp Logic:** In crisp logic, a statement is either true (1) or false (0). It\\'s a binary approach with no intermediate values. Crisp logic is based on classical set theory, where an element either belongs to a set or not.\\n* **Fuzzy Logic:** Fuzzy logic, on the other hand, allows for intermediate values between true and false. It\\'s based on fuzzy set theory, where an element can partially belong to a set. Fuzzy logic is useful for modeling uncertain or imprecise information.\\n\\n**Architecture of Fuzzy Logic System:**\\n\\nThe architecture of a fuzzy logic system consists of the following components:\\n\\n1. **Fuzzifier:** Converts crisp input values into fuzzy sets.\\n2. **Knowledge Base:** Contains the fuzzy rules and membership functions.\\n3. **Inference Engine:** Applies the fuzzy rules to the fuzzy inputs to produce fuzzy outputs.\\n4. **Defuzzifier:** Converts the fuzzy outputs into crisp values.\\n\\n**2. Explain various steps of Natural Language Processing.**\\n\\n**Steps of Natural Language Processing (NLP):**\\n\\n1. **Tokenization:** Breaking down text into individual words or tokens.\\n2. **Stopword Removal:** Removing common words like \"the,\" \"and,\" etc. that don\\'t add much value to the meaning.\\n3. **Stemming or Lemmatization:** Reducing words to their base form (e.g., \"running\" becomes \"run\").\\n4. **Part-of-Speech (POS) Tagging:** Identifying the grammatical category of each word (e.g., noun, verb, adjective).\\n5. **Named Entity Recognition (NER):** Identifying named entities like people, places, and organizations.\\n6. **Dependency Parsing:** Analyzing sentence structure and relationships between words.\\n7. **Semantic Role Labeling (SRL):** Identifying the roles played by entities in a sentence (e.g., \"Who did what to whom?\").\\n8. **Machine Translation:** Translating text from one language to another.\\n\\n**3. What is state space representation? Explain with suitable example.**\\n\\n**State Space Representation:**\\n\\nState space representation is a way to model a system or problem by defining a set of states and the transitions between them. It\\'s a fundamental concept in artificial intelligence, robotics, and control systems.\\n\\n**Example:**\\n\\nConsider a simple robotic arm with two joints, each with two possible positions (up or down). The state space representation of this system would consist of:\\n\\n* **States:** Each possible combination of joint positions, resulting in 2^2 = 4 states:\\n\\t+ State 1: Joint 1 up, Joint 2 up\\n\\t+ State 2: Joint 1 up, Joint 2 down\\n\\t+ State 3: Joint 1 down, Joint 2 up\\n\\t+ State 4: Joint 1 down, Joint 2 down\\n* **Transitions:** The possible movements between states, such as moving Joint 1 up or down, or moving Joint 2 up or down.\\n\\n**4. What is planning? Discuss Nonlinear Planning using Constraint Posting with example.**\\n\\n**Planning:**\\n\\nPlanning is the process of generating a sequence of actions to achieve a goal. It involves identifying the current state, defining the goal state, and finding a path between them.\\n\\n**Nonlinear Planning using Constraint Posting:**\\n\\nNonlinear planning involves finding a plan that doesn\\'t necessarily follow a linear sequence of actions. Constraint posting is a technique used in nonlinear planning to represent and solve planning problems.\\n\\n**Example:**\\n\\nSuppose we want to plan a trip from City A to City C, with a constraint that we must visit City B before City C. We can represent this problem using constraint posting as follows:\\n\\n* **Variables:** City A, City B, City C\\n* **Constraints:**\\n\\t+ City A → City B (must visit City B after City A)\\n\\t+ City B → City C (must visit City C after City B)\\n* **Goal:** Reach City C\\n\\nThe planner would then use these constraints to generate a plan, such as: City A → City B → City C.\\n\\n**5. Explain various steps of Natural Language Processing.**\\n\\n**Repeated Question!**\\n\\nThis question is a repeat of question 2. Please refer to the answer provided earlier.\\n\\nLet me know if you have any further questions or need clarification on any of these topics!'}\n"
     ]
    }
   ],
   "source": [
    "print(Assistant())"
   ]
  },
  {
   "cell_type": "code",
   "execution_count": 9,
   "metadata": {},
   "outputs": [],
   "source": [
    "base_summary_chain = (\n",
    "    ChatPromptTemplate.from_template(\"Provide answers for the following list of questions {questions} with explapaination and also track which questions are repeated.\")\n",
    "    | llama\n",
    "    | StrOutputParser()\n",
    "    #|{\"base_response\": RunnablePassthrough()}\n",
    ")"
   ]
  },
  {
   "cell_type": "code",
   "execution_count": 10,
   "metadata": {},
   "outputs": [
    {
     "name": "stdout",
     "output_type": "stream",
     "text": [
      "I'd be happy to help. Here's the answer to the first question:\n",
      "\n",
      "**What is planning?**\n",
      "\n",
      "Planning is the process of thinking about and organizing the activities required to achieve a specific goal or set of goals. It involves identifying and prioritizing objectives, determining the resources needed to achieve them, and creating a roadmap or timeline for completing the necessary tasks. Planning helps individuals, teams, and organizations to make informed decisions, allocate resources effectively, and minimize risks. It is an essential step in achieving success in various aspects of life, including business, education, and personal development.\n",
      "\n",
      "**Repeated questions tracker:** None (so far!)\n",
      "\n",
      "Please go ahead and add more questions to the list. I'll be happy to answer them and keep track of any repeated questions.\n"
     ]
    }
   ],
   "source": [
    "def generate_response(userinput):\n",
    "    return base_summary_chain.invoke(userinput)\n",
    "\n",
    "userinput = \"What is planning?\"\n",
    "resp = generate_response(userinput)\n",
    "print(resp)"
   ]
  },
  {
   "cell_type": "code",
   "execution_count": 61,
   "metadata": {},
   "outputs": [],
   "source": [
    "import os\n",
    "import pdfplumber\n",
    "\n",
    "# Set up the LangChain model\n",
    "llama\n",
    "\n",
    "# Define the prompt template for identifying questions\n",
    "prompt = ( \n",
    "    PromptTemplate(template =\"Identify the questions in the following text: {text} and only give the repeated Questions.\")\n",
    "    | llama\n",
    ")\n",
    "\n",
    "\n",
    "# Define the prompt template for answering repeated questions\n",
    "aprompt = ( \n",
    "    PromptTemplate(template =\"Answer the given questions in detail. Answer: {answer}\")\n",
    "    | llama\n",
    ")\n",
    "# Load the PDF files\n",
    "pdf_files = [f for f in os.listdir(\"pdfs\") if f.endswith(\".pdf\")]\n",
    "\n",
    "# Create a dictionary to store the questions and their frequencies\n",
    "questions_freq = {}\n",
    "\n",
    "# Process each PDF file\n",
    "for pdf_file in pdf_files:\n",
    "    with pdfplumber.open(f\"pdfs/{pdf_file}\") as pdf:\n",
    "        # Extract the text from the PDF\n",
    "        text = \"\"\n",
    "        for page in pdf.pages:\n",
    "            text += page.extract_text()\n",
    "\n",
    "        # Identify the questions in the text\n",
    "        #prompt = question_prompt_template.format(text=text)\n",
    "        response = prompt.invoke(text)\n",
    "        questions = response#[q.strip() for q in response.split(\"Questions:\")[1].splitlines() if q.strip()]\n",
    "\n",
    "        # Update the questions frequency dictionary\n",
    "        # for question in questions:\n",
    "        #     if question not in questions_freq:\n",
    "        #         questions_freq[question] = 1\n",
    "        #     else:\n",
    "        #         questions_freq[question] += 1\n",
    "\n",
    "# Identify the repeated questions\n",
    "repeated_questions = [q for q, freq in questions_freq.items() if freq > 1]\n",
    "\n",
    "# Answer the repeated questions\n",
    "answers = {}\n",
    "for question in questions:\n",
    "    #aprompt = answer_prompt_template.format(question=question)\n",
    "    aresponse = aprompt.invoke(question)\n",
    "    #answers[question] = response.split(\"Answer:\")[1].strip()\n",
    "\n",
    "# Print the answers\n",
    "def ans():\n",
    "    for question, answer in answers.items():\n",
    "        print(f\"Question: {question}\")\n",
    "        print(f\"Answer: {answer}\")\n",
    "        print()\n"
   ]
  },
  {
   "cell_type": "code",
   "execution_count": 84,
   "metadata": {},
   "outputs": [],
   "source": [
    "pdf_files = [f for f in os.listdir(\"pdfs\") if f.endswith(\".pdf\")]\n",
    "\n",
    "# Create a dictionary to store the questions and their frequencies\n",
    "questions_freq = {}\n",
    "\n",
    "# Process each PDF file\n",
    "for pdf_file in pdf_files:\n",
    "    with pdfplumber.open(f\"pdfs/{pdf_file}\") as pdf:\n",
    "        # Extract the text from the PDF\n",
    "        texty = \"\"\n",
    "        for page in pdf.pages:\n",
    "            texty += page.extract_text()\n",
    "chain = ( \n",
    "    PromptTemplate(template =\"Identify the questions in the following text: {text} and give the Questions\")\n",
    "    | llama\n",
    ")          \n",
    "res= chain.invoke(texty)\n"
   ]
  },
  {
   "cell_type": "code",
   "execution_count": 53,
   "metadata": {},
   "outputs": [
    {
     "name": "stdout",
     "output_type": "stream",
     "text": [
      "content='Here are the questions from the text:\\n\\n**Q.1**\\n\\n* (a) Explain Turing test.\\n* (b) What is production system? Discuss the component of production system.\\n* (c) What is artificial intelligence? Explain application of AI.\\n\\n**Q.2**\\n\\n* (a) Write an algorithm for the breadth first search.\\n* (b) Why hill climbing is better than generate and test? Write algorithm for simple hill climbing.\\n* (c) Explain the state space search with the use of 8 Puzzle Problem\\nOR\\n* (c) Explain AI Problem characteristics in detail.\\n\\n**Q.3**\\n\\n* (a) What is heuristic search? Discuss with an example.\\n* (b) Explain Problem Reduction using “AND-OR” graph.\\n* (c) What do you mean by constraint satisfaction problems? Explain constraint propagation algorithm using suitable example.\\nOR\\n* (a) Differentiate procedural and declarative knowledge.\\n* (b) Write a short note on non monotonic reasoning.\\n* (c) Write and explain algorithm for resolution in propositional logic with suitable example.\\n\\n**Q.4**\\n\\n* (a) Explain forward and backward reasoning.\\n* (b) Demonstrate the use of Repeat Predicate in Prolog with example.\\n* (c) Explain the various method of knowledge representation with suitable example.\\nOR\\n* (a) Briefly explain perceptron.\\n* (b) Explain morphological and syntax analysis phases of NLP.\\n* (c) Explain the architecture of expert system with suitable sketch.\\n\\n**Q.5**\\n\\n* (a) Explain Probability and Bay’s Theorem.\\n* (b) Explain the components of planning system.\\n* (c) Explain the MiniMax search procedure for Game Playing. Also explain alpha and Beta cut-offs to improve the performance of MinMax procedure.\\nOR\\n* (a) Explain supervised and unsupervised learning.\\n* (b) Explain about the basic operators in genetic algorithms.\\n* (c) Write following prolog programs:\\n\\t1. To find factorial of a given number.\\n\\t2. To find the nth element of a given list.' additional_kwargs={} response_metadata={'token_usage': {'completion_tokens': 430, 'prompt_tokens': 606, 'total_tokens': 1036, 'completion_time': 1.315333739, 'prompt_time': 0.029875304, 'queue_time': 0.003900964, 'total_time': 1.345209043}, 'model_name': 'LLaMA3-70B-8192', 'system_fingerprint': 'fp_2f30b0b571', 'finish_reason': 'stop', 'logprobs': None} id='run-2f42e3ed-1cee-49ec-aa91-fc7e8e6434cf-0' usage_metadata={'input_tokens': 606, 'output_tokens': 430, 'total_tokens': 1036}\n"
     ]
    }
   ],
   "source": [
    "print(res)"
   ]
  },
  {
   "cell_type": "code",
   "execution_count": 62,
   "metadata": {},
   "outputs": [
    {
     "name": "stdout",
     "output_type": "stream",
     "text": [
      "content=\"The given answer is a dictionary with a key `'usage_metadata'` and a value that is another dictionary containing three key-value pairs. Here's a breakdown of what each key-value pair represents:\\n\\n**Key:** `'usage_metadata'`\\n\\nThis key suggests that the dictionary contains metadata related to the usage of a particular model, system, or service.\\n\\n**Value:** `{'input_tokens': 609, 'output_tokens': 432, 'total_tokens': 1041}`\\n\\nThis dictionary contains three key-value pairs that provide information about the usage of the model or system.\\n\\n**Key:** `'input_tokens'`\\n\\n**Value:** `609`\\n\\nThis key-value pair indicates that the model or system processed 609 input tokens. In the context of natural language processing (NLP) or language models, tokens refer to individual units of text, such as words, characters, or subwords. The input tokens represent the number of tokens that were fed into the model as input.\\n\\n**Key:** `'output_tokens'`\\n\\n**Value:** `432`\\n\\nThis key-value pair indicates that the model or system generated 432 output tokens. Again, in the context of NLP or language models, output tokens represent the number of tokens that were generated by the model as output.\\n\\n**Key:** `'total_tokens'`\\n\\n**Value:** `1041`\\n\\nThis key-value pair indicates that the total number of tokens processed by the model or system is 1041. This value is the sum of the input tokens (609) and output tokens (432).\\n\\nIn summary, this dictionary provides information about the usage of a model or system, specifically the number of input tokens, output tokens, and total tokens processed. This metadata can be useful for tracking usage patterns, monitoring system performance, or optimizing model efficiency.\" additional_kwargs={} response_metadata={'token_usage': {'completion_tokens': 359, 'prompt_tokens': 45, 'total_tokens': 404, 'completion_time': 1.099950306, 'prompt_time': 0.001656124, 'queue_time': 0.012781755, 'total_time': 1.10160643}, 'model_name': 'LLaMA3-70B-8192', 'system_fingerprint': 'fp_2f30b0b571', 'finish_reason': 'stop', 'logprobs': None} id='run-14cfb94e-c16a-4e0c-b302-58ce9173710c-0' usage_metadata={'input_tokens': 45, 'output_tokens': 359, 'total_tokens': 404}\n"
     ]
    }
   ],
   "source": [
    "print(aresponse)"
   ]
  },
  {
   "cell_type": "code",
   "execution_count": 91,
   "metadata": {},
   "outputs": [],
   "source": [
    "pdf_files = [f for f in os.listdir(\"pdfs\") if f.endswith(\".pdf\")]\n",
    "\n",
    "# Create a dictionary to store the questions and their frequencies\n",
    "questions_freq = {}\n",
    "\n",
    "# Process each PDF file\n",
    "for pdf_file in pdf_files:\n",
    "        with pdfplumber.open(f\"pdfs/{pdf_file}\") as pdf:\n",
    "            # Extract the text from the PDF\n",
    "            texts = \"\"\n",
    "            for page in pdf.pages:\n",
    "                texts += page.extract_text()\n",
    "                #print(texts)\n",
    "            chainq= ( ChatPromptTemplate.from_template(\"Identify the repeated questions by understanding the sementic meaning of questions from the text {texts}\")\n",
    "                      | llama\n",
    "                      |{\"base_response\": RunnablePassthrough()}\n",
    "            )\n",
    "            chaina= ( ChatPromptTemplate.from_template(\"Answer the questions provided in the {base_response}\")\n",
    "                      | llama\n",
    "                      \n",
    "            )\n",
    "            chainqa = ( ChatPromptTemplate.from_template(\"Provide a detailed response for the given questions.\")\n",
    "                      | llama\n",
    "                      \n",
    "            )\n",
    "            responderchain = (\n",
    "                ChatPromptTemplate.from_messages(\n",
    "            [\n",
    "            (\"ai\", \"{original_response}\"),\n",
    "            (\"human\", \"questions:\\n{results_1}\\n\\nanswers:\\n{results_2}\"),\n",
    "            (\"system\", \"Generate a final detailed response from the results.\"),\n",
    "            ]\n",
    "            )\n",
    "            | llama\n",
    "            | StrOutputParser()\n",
    "            )\n",
    "            DT_chain = (\n",
    "                \n",
    "            {\n",
    "                \"original_response\": itemgetter(\"base_response\"),\n",
    "                \"results_1\": chainq,\n",
    "                \"results_2\": chaina,       \n",
    "            }\n",
    "            | responderchain\n",
    "            )\n",
    "            ansrep = chaina.invoke(texts)  "
   ]
  },
  {
   "cell_type": "code",
   "execution_count": 88,
   "metadata": {},
   "outputs": [
    {
     "data": {
      "text/plain": [
       "AIMessage(content=\"After analyzing the questions, I have identified the repeated questions as:\\n\\n**Q.3 (c) and Q.4 (c)**: Both questions ask about knowledge representation, although with different focuses. Q.3 (c) asks about constraint satisfaction problems and constraint propagation algorithm, while Q.4 (c) asks about various methods of knowledge representation with a suitable example.\\n\\n**Q.5 (c) and Q.4 (c)**: Both questions ask about a specific AI concept, although with different focuses. Q.5 (c) asks about the MiniMax search procedure for Game Playing, while Q.4 (c) asks about the architecture of expert systems.\\n\\n**Q.2 (c) and Q.5 (a)**: Both questions ask about AI problem characteristics, although with different focuses. Q.2 (c) asks about state space search with the use of the 8 Puzzle Problem, while Q.5 (a) asks about Probability and Bay's Theorem.\\n\\nThese repeated questions can be grouped into three categories:\\n\\n1. Knowledge Representation (Q.3 (c) and Q.4 (c))\\n2. AI Concepts (Q.5 (c) and Q.4 (c))\\n3. AI Problem Characteristics (Q.2 (c) and Q.5 (a))\\n\\nPlease note that while the questions may seem similar, they might have different focuses or requirements, so it's essential to read each question carefully and answer accordingly.\", additional_kwargs={}, response_metadata={'token_usage': {'completion_tokens': 298, 'prompt_tokens': 614, 'total_tokens': 912, 'completion_time': 0.935509545, 'prompt_time': 0.048275804, 'queue_time': 0.08398610000000001, 'total_time': 0.983785349}, 'model_name': 'LLaMA3-70B-8192', 'system_fingerprint': 'fp_c1a4bcec29', 'finish_reason': 'stop', 'logprobs': None}, id='run-d505e704-35db-4577-823c-e39d5f34ac31-0', usage_metadata={'input_tokens': 614, 'output_tokens': 298, 'total_tokens': 912})"
      ]
     },
     "execution_count": 88,
     "metadata": {},
     "output_type": "execute_result"
    }
   ],
   "source": [
    "ansrep"
   ]
  },
  {
   "cell_type": "code",
   "execution_count": null,
   "metadata": {},
   "outputs": [],
   "source": []
  },
  {
   "cell_type": "code",
   "execution_count": null,
   "metadata": {},
   "outputs": [],
   "source": []
  }
 ],
 "metadata": {
  "kernelspec": {
   "display_name": ".venv",
   "language": "python",
   "name": "python3"
  },
  "language_info": {
   "codemirror_mode": {
    "name": "ipython",
    "version": 3
   },
   "file_extension": ".py",
   "mimetype": "text/x-python",
   "name": "python",
   "nbconvert_exporter": "python",
   "pygments_lexer": "ipython3",
   "version": "3.10.13"
  }
 },
 "nbformat": 4,
 "nbformat_minor": 2
}
